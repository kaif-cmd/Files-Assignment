{
  "nbformat": 4,
  "nbformat_minor": 0,
  "metadata": {
    "colab": {
      "provenance": []
    },
    "kernelspec": {
      "name": "python3",
      "display_name": "Python 3"
    },
    "language_info": {
      "name": "python"
    }
  },
  "cells": [
    {
      "cell_type": "markdown",
      "source": [
        "#***Files, exceptional handling,logging and memory management***"
      ],
      "metadata": {
        "id": "PRzrKW9xom8H"
      }
    },
    {
      "cell_type": "markdown",
      "source": [
        "#**THEORY QUESTIONS**"
      ],
      "metadata": {
        "id": "UgQwXvh8onHW"
      }
    },
    {
      "cell_type": "markdown",
      "source": [
        "#1.What is the difference between interpreted and compiled languages?\n",
        "->The main difference between interpreted and compiled languages is in how the code is executed:\n",
        "\n",
        "- **Compiled Languages**: The source code is translated into machine code (binary) by a compiler before execution. This machine code is then run directly by the computer’s hardware. Examples: C, C++.\n",
        "\n",
        "- **Interpreted Languages**: The source code is executed line-by-line by an interpreter at runtime, without being compiled into machine code beforehand. Examples: Python, JavaScript.\n",
        "\n",
        "In short: **Compiled languages** produce a separate executable file, while **interpreted languages** are executed directly by an interpreter during runtime."
      ],
      "metadata": {
        "id": "jo3fGXOxonOZ"
      }
    },
    {
      "cell_type": "markdown",
      "source": [
        "#2.What is exception handling in Python?\n",
        "->Exception handling in Python is a mechanism that allows you to handle runtime errors (exceptions) gracefully, without crashing the program. It uses the `try`, `except`, `else`, and `finally` blocks:\n",
        "\n",
        "- **`try`**: Code that might raise an exception is placed here.\n",
        "- **`except`**: Defines how to handle the exception if it occurs.\n",
        "- **`else`**: Executes if no exception occurs.\n",
        "- **`finally`**: Executes regardless of whether an exception occurred or not, typically used for cleanup.\n",
        "\n",
        "Example:\n",
        "```python\n",
        "try:\n",
        "    x = 10 / 0\n",
        "except ZeroDivisionError:\n",
        "    print(\"Cannot divide by zero.\")\n",
        "finally:\n",
        "    print(\"This will always execute.\")\n",
        "```\n",
        "\n",
        "In short, exception handling helps manage errors and maintain the program flow."
      ],
      "metadata": {
        "id": "y4NKqOXUonRv"
      }
    },
    {
      "cell_type": "markdown",
      "source": [
        "#3.What is the purpose of the finally block in exception handling?\n",
        "->The **`finally`** block in exception handling is used to execute code that must run regardless of whether an exception occurs or not. It's typically used for cleanup actions, such as closing files or releasing resources.\n",
        "\n",
        "Example:\n",
        "```python\n",
        "try:\n",
        "    file = open(\"file.txt\", \"r\")\n",
        "    # Perform file operations\n",
        "except FileNotFoundError:\n",
        "    print(\"File not found.\")\n",
        "finally:\n",
        "    file.close()  # Ensures the file is closed even if an error occurs.\n",
        "```\n",
        "\n",
        "In short, the `finally` block ensures that critical code runs no matter what, even if an exception was raised."
      ],
      "metadata": {
        "id": "PLObQabaonUo"
      }
    },
    {
      "cell_type": "markdown",
      "source": [
        "#4.What is logging in Python?\n",
        "->Logging in Python is a way to track and record events, errors, and informational messages during the execution of a program. It helps in debugging and monitoring the application's behavior.\n",
        "\n",
        "Python's `logging` module provides a flexible framework for logging messages at different levels (e.g., DEBUG, INFO, WARNING, ERROR, CRITICAL).\n",
        "\n",
        "Example:\n",
        "```python\n",
        "import logging\n",
        "logging.basicConfig(level=logging.DEBUG)\n",
        "logging.info(\"This is an informational message.\")\n",
        "logging.error(\"This is an error message.\")\n",
        "```\n",
        "\n",
        "In short, **logging** provides a way to output diagnostic information, which is useful for tracking the flow of execution and debugging."
      ],
      "metadata": {
        "id": "5go0HagponXi"
      }
    },
    {
      "cell_type": "markdown",
      "source": [
        "#5.What is the significance of the __del__ method in Python?\n",
        "->The **`__del__`** method in Python is a special method used for **object cleanup**. It is called when an object is about to be destroyed (i.e., when it is garbage collected), allowing you to release resources like file handles or network connections.\n",
        "\n",
        "Example:\n",
        "```python\n",
        "class MyClass:\n",
        "    def __del__(self):\n",
        "        print(\"Object is being deleted.\")\n",
        "\n",
        "obj = MyClass()\n",
        "del obj  # Calls the __del__ method\n",
        "```\n",
        "\n",
        "In short, **`__del__`** is used to define actions that should occur when an object is deleted or goes out of scope."
      ],
      "metadata": {
        "id": "1YhLTj2ionbL"
      }
    },
    {
      "cell_type": "markdown",
      "source": [
        "#6.What is the difference between import and from ... import in Python?\n",
        "->In Python:\n",
        "\n",
        "- **`import`**: Imports the entire module, and you access its functions or variables using the module name.\n",
        "\n",
        "  Example:\n",
        "  ```python\n",
        "  import math\n",
        "  print(math.sqrt(16))  # Accessing using module name\n",
        "  ```\n",
        "\n",
        "- **`from ... import`**: Imports specific functions, classes, or variables directly from a module, so you can use them without the module name prefix.\n",
        "\n",
        "  Example:\n",
        "  ```python\n",
        "  from math import sqrt\n",
        "  print(sqrt(16))  # Directly using the function\n",
        "  ```\n",
        "\n",
        "In short, **`import`** loads the whole module, while **`from ... import`** loads specific parts of a module directly."
      ],
      "metadata": {
        "id": "96t398qEonda"
      }
    },
    {
      "cell_type": "markdown",
      "source": [
        "#7. How can you handle multiple exceptions in Python?\n",
        "->In Python, you can handle multiple exceptions by specifying multiple `except` blocks or by using a tuple to catch several exceptions in a single `except` block.\n",
        "\n",
        "1. **Multiple `except` blocks**:\n",
        "   ```python\n",
        "   try:\n",
        "       # some code\n",
        "   except ZeroDivisionError:\n",
        "       print(\"Division by zero error.\")\n",
        "   except ValueError:\n",
        "       print(\"Invalid value error.\")\n",
        "   ```\n",
        "\n",
        "2. **Catching multiple exceptions in one `except` block**:\n",
        "   ```python\n",
        "   try:\n",
        "       # some code\n",
        "   except (ZeroDivisionError, ValueError) as e:\n",
        "       print(f\"Error occurred: {e}\")\n",
        "   ```\n",
        "\n",
        "In short, you can either use separate `except` blocks or a tuple to handle multiple exceptions."
      ],
      "metadata": {
        "id": "sB_iD8EkongP"
      }
    },
    {
      "cell_type": "markdown",
      "source": [
        "#8.What is the purpose of the with statement when handling files in Python?\n",
        "->The **`with`** statement in Python is used for **resource management**, ensuring that resources like files are properly opened and closed. It automatically handles closing the file after the block of code is executed, even if an exception occurs, making the code cleaner and more reliable.\n",
        "\n",
        "Example:\n",
        "```python\n",
        "with open(\"file.txt\", \"r\") as file:\n",
        "    content = file.read()\n",
        "# File is automatically closed after the block, no need to call file.close()\n",
        "```\n",
        "\n",
        "In short, the **`with`** statement simplifies file handling by ensuring that files are properly closed after use, reducing the risk of resource leaks."
      ],
      "metadata": {
        "id": "qKv_s2eZonjQ"
      }
    },
    {
      "cell_type": "markdown",
      "source": [
        "#9.What is the difference between multithreading and multiprocessing?\n",
        "->**Multithreading** and **multiprocessing** are both techniques for achieving concurrent execution, but they differ in how they use system resources:\n",
        "\n",
        "- **Multithreading**: Involves multiple threads within a single process. Threads share the same memory space, making it lightweight, but they can be limited by Python's Global Interpreter Lock (GIL) in CPU-bound tasks.\n",
        "  - **Use case**: Ideal for I/O-bound tasks (e.g., file operations, network requests).\n",
        "  \n",
        "- **Multiprocessing**: Involves multiple processes, each with its own memory space. This avoids the GIL limitation and can fully utilize multiple CPU cores.\n",
        "  - **Use case**: Best for CPU-bound tasks (e.g., heavy computations).\n",
        "\n",
        "In short, **multithreading** is suitable for I/O-bound tasks, while **multiprocessing** is better for CPU-bound tasks."
      ],
      "metadata": {
        "id": "wtukcP5ionmc"
      }
    },
    {
      "cell_type": "markdown",
      "source": [
        "#10.What are the advantages of using logging in a program?\n",
        "->The advantages of using **logging** in a program are:\n",
        "\n",
        "1. **Debugging**: Helps track the flow of the program and identify issues by recording error messages, exceptions, and other important information.\n",
        "2. **Monitoring**: Enables real-time monitoring of an application's performance and behavior.\n",
        "3. **Traceability**: Keeps a record of events, making it easier to trace what happened and when, especially in production environments.\n",
        "4. **Configurability**: Allows setting different log levels (e.g., DEBUG, INFO, ERROR) to control the verbosity of log messages.\n",
        "5. **Persistence**: Logs can be saved to files, databases, or external systems for long-term storage and analysis.\n",
        "\n",
        "In short, **logging** helps track and manage program behavior, aiding in debugging, monitoring, and maintaining the application."
      ],
      "metadata": {
        "id": "CLGBMm1rqDZ9"
      }
    },
    {
      "cell_type": "markdown",
      "source": [
        "#11.What is memory management in Python?\n",
        "->Memory management in Python refers to the process of efficiently allocating, using, and freeing memory during the execution of a program. Key components of Python's memory management include:\n",
        "\n",
        "1. **Automatic Garbage Collection**: Python uses a garbage collector to automatically manage memory by tracking and freeing unused objects, preventing memory leaks.\n",
        "2. **Reference Counting**: Python tracks the number of references to each object. When an object's reference count drops to zero, it is automatically deallocated.\n",
        "3. **Memory Pools**: Python uses memory pools (like the *PyMalloc* allocator) to efficiently manage small objects, reducing overhead from frequent memory allocations and deallocations.\n",
        "\n",
        "In short, Python handles memory management automatically through garbage collection and reference counting, optimizing memory usage and cleanup."
      ],
      "metadata": {
        "id": "gCg6howtqDPm"
      }
    },
    {
      "cell_type": "markdown",
      "source": [
        "#12.What are the basic steps involved in exception handling in Python?\n",
        "->The basic steps involved in exception handling in Python are:\n",
        "\n",
        "1. **`try` block**: Write the code that might raise an exception.\n",
        "2. **`except` block**: Catch and handle the exception if it occurs.\n",
        "3. **`else` block** (optional): Execute if no exception occurs in the `try` block.\n",
        "4. **`finally` block** (optional): Execute cleanup code, regardless of whether an exception occurred or not.\n",
        "\n",
        "Example:\n",
        "```python\n",
        "try:\n",
        "    # Code that might raise an exception\n",
        "except SomeException:\n",
        "    # Handle the exception\n",
        "else:\n",
        "    # Code to run if no exception occurs\n",
        "finally:\n",
        "    # Cleanup code (always runs)\n",
        "```\n",
        "\n",
        "In short, you use **`try`** to test code, **`except`** to handle errors, **`else`** for success, and **`finally`** for cleanup.\n"
      ],
      "metadata": {
        "id": "5rjb2MIeqDCm"
      }
    },
    {
      "cell_type": "markdown",
      "source": [
        "#13.Why is memory management important in Python?\n",
        "->Memory management is important in Python because it ensures efficient use of system resources, prevents memory leaks, and improves performance. Proper memory management:\n",
        "\n",
        "1. **Prevents memory leaks**: Automatically frees unused memory through garbage collection.\n",
        "2. **Optimizes performance**: Efficient memory allocation helps the program run faster and with less overhead.\n",
        "3. **Reduces errors**: Ensures that memory is used correctly and safely, avoiding issues like crashes or slowdowns due to excessive memory consumption.\n",
        "\n",
        "In short, effective memory management helps maintain the stability, efficiency, and performance of Python applications."
      ],
      "metadata": {
        "id": "4LDefruiqCce"
      }
    },
    {
      "cell_type": "markdown",
      "source": [
        "#14.What is the role of try and except in exception handling?\n",
        "->In exception handling, the **`try`** and **`except`** blocks work together to handle errors:\n",
        "\n",
        "- **`try` block**: Contains the code that might raise an exception. It allows the program to attempt executing the code without crashing.\n",
        "  \n",
        "- **`except` block**: Catches and handles the exception if one occurs in the `try` block. This prevents the program from terminating unexpectedly.\n",
        "\n",
        "Example:\n",
        "```python\n",
        "try:\n",
        "    # Code that might raise an exception\n",
        "except SomeException:\n",
        "    # Handle the exception\n",
        "```\n",
        "\n",
        "In short, **`try`** runs the code, and **`except`** catches and handles any errors that occur."
      ],
      "metadata": {
        "id": "ix5aQb3gqCRN"
      }
    },
    {
      "cell_type": "markdown",
      "source": [
        "#15.How does Python's garbage collection system work?\n",
        "->Python's garbage collection system manages memory by automatically reclaiming memory that is no longer in use. It works primarily through:\n",
        "\n",
        "1. **Reference Counting**: Python tracks the number of references to each object. When the reference count drops to zero, the object is immediately deallocated.\n",
        "\n",
        "2. **Garbage Collector**: In addition to reference counting, Python uses a cyclic garbage collector to detect and clean up reference cycles (when objects reference each other, creating a cycle that reference counting alone can't detect).\n",
        "\n",
        "In short, Python's garbage collection system uses reference counting and a garbage collector to automatically manage memory and free up unused objects."
      ],
      "metadata": {
        "id": "cexXUedeqCKD"
      }
    },
    {
      "cell_type": "markdown",
      "source": [
        "#16.What is the purpose of the else block in exception handling?\n",
        "->The **`else`** block in exception handling is used to define code that runs **only if no exception** occurs in the `try` block. It allows you to separate error handling from normal code execution.\n",
        "\n",
        "Example:\n",
        "```python\n",
        "try:\n",
        "    result = 10 / 2\n",
        "except ZeroDivisionError:\n",
        "    print(\"Cannot divide by zero.\")\n",
        "else:\n",
        "    print(\"Division successful:\", result)\n",
        "```\n",
        "\n",
        "In short, the **`else`** block runs when the `try` block executes without errors, providing a clean way to handle successful execution."
      ],
      "metadata": {
        "id": "3YNqbXHdp_2e"
      }
    },
    {
      "cell_type": "markdown",
      "source": [
        "#17.What are the common logging levels in Python?\n",
        "->The common logging levels in Python are:\n",
        "\n",
        "1. **DEBUG**: Detailed information, typically useful for diagnosing problems.\n",
        "2. **INFO**: General information about program execution (e.g., startup, completion).\n",
        "3. **WARNING**: Indicates a potential problem or unexpected situation, but the program can continue.\n",
        "4. **ERROR**: An issue that causes a part of the program to fail but not the whole program.\n",
        "5. **CRITICAL**: A serious error that might cause the program to terminate.\n",
        "\n",
        "In short, these levels allow you to control the verbosity of logs, from detailed debugging to critical errors."
      ],
      "metadata": {
        "id": "fyCvBBXBp_l3"
      }
    },
    {
      "cell_type": "markdown",
      "source": [
        "#18.What is the difference between os.fork() and multiprocessing in Python?\n",
        "->The key difference between **`os.fork()`** and **`multiprocessing`** in Python is:\n",
        "\n",
        "- **`os.fork()`**: Creates a new child process by duplicating the current process. It is lower-level and platform-dependent (works only on Unix-like systems) and does not handle process management or communication between processes.\n",
        "\n",
        "- **`multiprocessing`**: A higher-level module that provides a way to create and manage processes, handle inter-process communication, and utilize multiple cores more easily. It works across different platforms, including Windows.\n",
        "\n",
        "In short, **`os.fork()`** is a low-level system call for creating processes, while **`multiprocessing`** is a higher-level, cross-platform approach for managing parallelism and process communication."
      ],
      "metadata": {
        "id": "5NYRhO32p_d-"
      }
    },
    {
      "cell_type": "markdown",
      "source": [
        "#19.What is the importance of closing a file in Python?\n",
        "->Closing a file in Python is important because it:\n",
        "\n",
        "1. **Releases system resources**: Closing the file frees up memory and file handles, preventing resource leaks.\n",
        "2. **Ensures data is saved**: It flushes any remaining data to the file, ensuring all changes are written properly.\n",
        "3. **Prevents errors**: Avoids issues like file corruption or access problems when trying to open the file again.\n",
        "\n",
        "In short, closing a file ensures proper resource management and that all data is saved correctly."
      ],
      "metadata": {
        "id": "N6lg6r7-p_US"
      }
    },
    {
      "cell_type": "markdown",
      "source": [
        "#20.What is the difference between file.read() and file.readline() in Python?\n",
        "->The difference between **`file.read()`** and **`file.readline()`** in Python is:\n",
        "\n",
        "- **`file.read()`**: Reads the entire content of the file at once and returns it as a single string.\n",
        "  \n",
        "  Example:\n",
        "  ```python\n",
        "  content = file.read()\n",
        "  ```\n",
        "\n",
        "- **`file.readline()`**: Reads the next line from the file, returning it as a string. Each call reads one line at a time.\n",
        "\n",
        "  Example:\n",
        "  ```python\n",
        "  line = file.readline()\n",
        "  ```\n",
        "\n",
        "In short, **`file.read()`** reads the whole file at once, while **`file.readline()`** reads one line at a time."
      ],
      "metadata": {
        "id": "em8prna9p_NQ"
      }
    },
    {
      "cell_type": "markdown",
      "source": [
        "#21.What is the logging module in Python used for?\n",
        "->The **logging module** in Python is used for tracking and recording events, errors, and informational messages in a program. It helps developers debug, monitor, and trace the application's execution by providing different log levels (e.g., DEBUG, INFO, ERROR) and outputting logs to various destinations (console, files, etc.).\n",
        "\n",
        "In short, the **logging module** provides a way to log and manage diagnostic messages in Python programs."
      ],
      "metadata": {
        "id": "1lSiv9gTp_G-"
      }
    },
    {
      "cell_type": "markdown",
      "source": [
        "#22.What is the os module in Python used for in file handling?\n",
        "->The **`os`** module in Python is used for interacting with the operating system and performing file handling tasks, such as:\n",
        "\n",
        "1. **File and Directory Operations**: Creating, deleting, and renaming files or directories (e.g., `os.mkdir()`, `os.remove()`, `os.rename()`).\n",
        "2. **Path Manipulation**: Joining, splitting, or checking file paths (e.g., `os.path.join()`, `os.path.exists()`).\n",
        "3. **Changing Working Directory**: Navigating between directories (e.g., `os.chdir()`).\n",
        "\n",
        "In short, the **`os`** module provides functions for file and directory management, path manipulation, and interacting with the operating system."
      ],
      "metadata": {
        "id": "EvTIlo2Dp-_q"
      }
    },
    {
      "cell_type": "markdown",
      "source": [
        "#23.What are the challenges associated with memory management in Python?\n",
        "->Challenges associated with memory management in Python include:\n",
        "\n",
        "1. **Garbage Collection Overhead**: While Python automatically handles memory management through garbage collection, it can introduce performance overhead, especially with cyclic references.\n",
        "2. **Reference Counting**: Python’s reference counting can lead to memory leaks if references are not properly managed (e.g., in circular references).\n",
        "3. **Memory Fragmentation**: Python’s memory allocator (like PyMalloc) can experience fragmentation, leading to inefficient memory usage over time.\n",
        "4. **Large Memory Consumption**: Python’s memory usage can be higher due to its dynamic nature and object overhead, which may not be ideal for memory-constrained environments.\n",
        "\n",
        "In short, memory management in Python can be challenging due to overhead from garbage collection, reference counting issues, fragmentation, and higher memory consumption."
      ],
      "metadata": {
        "id": "gK_tZgUAp-4g"
      }
    },
    {
      "cell_type": "markdown",
      "source": [
        "#24.How do you raise an exception manually in Python?\n",
        "->You can raise an exception manually in Python using the **`raise`** keyword, followed by the exception you want to raise.\n",
        "\n",
        "Example:\n",
        "```python\n",
        "raise ValueError(\"This is a custom error message.\")\n",
        "```\n",
        "\n",
        "In short, the **`raise`** keyword is used to trigger an exception manually in Python."
      ],
      "metadata": {
        "id": "cwWxP6QOp-sm"
      }
    },
    {
      "cell_type": "markdown",
      "source": [
        "#25.Why is it important to use multithreading in certain applications?\n",
        "->Multithreading is important in certain applications because it offers several key advantages that can significantly improve the performance, responsiveness, and efficiency of programs. Here are some reasons why multithreading is crucial in these cases:\n",
        "\n",
        "### 1. **Improved Performance Through Parallelism**\n",
        "   - **Efficiency**: In applications that can be divided into independent tasks (like processing multiple data streams, tasks in web servers, or complex calculations), multithreading allows multiple threads to run concurrently on different processors or cores. This can greatly speed up the execution of time-consuming tasks.\n",
        "   - **Better Resource Utilization**: On modern multi-core processors, multithreading allows you to fully utilize the available cores, ensuring that each core is used optimally, resulting in faster execution.\n",
        "\n",
        "### 2. **Responsiveness in User Interfaces**\n",
        "   - **Non-blocking UI**: Multithreading helps keep user interfaces (UIs) responsive, even while performing time-intensive operations in the background. For instance, in a graphical application, a UI thread can handle user interactions, while other threads handle complex calculations or file downloads. This prevents the application from freezing or becoming unresponsive during these operations.\n",
        "   - **Smooth User Experience**: By offloading tasks such as network requests or heavy computation to background threads, the main thread (UI thread) remains free to respond to user inputs immediately, providing a better user experience.\n",
        "\n",
        "### 3. **Handling I/O Bound Operations**\n",
        "   - **Concurrency for I/O**: Multithreading is essential in applications that need to manage multiple I/O operations concurrently, such as web servers or file systems. In these cases, threads can handle multiple network requests, file reads, or database queries simultaneously, leading to faster and more efficient handling of I/O-bound tasks.\n",
        "   - **Latency Reduction**: By using threads to wait for I/O operations asynchronously, the application can continue executing other operations instead of being blocked, reducing overall wait time.\n",
        "\n",
        "### 4. **Real-time and Concurrent Systems**\n",
        "   - **Real-Time Systems**: In systems that require real-time responses, such as embedded systems or robotics, multithreading is vital for processing multiple tasks concurrently and ensuring that critical operations (like sensor readings or device control) happen without delays.\n",
        "   - **Concurrency**: In applications like game engines or financial systems, where multiple tasks must be executed concurrently (e.g., handling multiple players or transactions), multithreading ensures that all tasks are handled efficiently without interrupting each other.\n",
        "\n",
        "### 5. **Scalability**\n",
        "   - **Better Scalability in Distributed Systems**: In distributed systems, cloud computing, and high-performance computing, multithreading allows applications to scale more effectively. By breaking tasks into smaller, concurrent threads, the system can handle a larger volume of requests or data with better load distribution, improving scalability.\n",
        "\n",
        "### 6. **Cost Reduction in Complex Applications**\n",
        "   - **Faster Development**: By using multithreading, developers can simplify the design of complex applications. Instead of relying on sequential execution, which may require more complex, time-consuming algorithms, multithreading allows developers to break down problems into independent tasks that can be worked on concurrently, simplifying development.\n",
        "   - **Cost Efficiency**: For operations like processing large datasets, instead of relying on expensive hardware upgrades, multithreading can improve performance without the need to significantly increase hardware resources.\n",
        "\n",
        "### 7. **Utilization of Asymmetric Processing**\n",
        "   - **Optimizing Workload**: In cases where some tasks are more computationally intensive than others, multithreading can allow for asymmetric processing. Lighter threads can be handled on one core while more intensive threads can run on others, leading to better load balancing across available resources.\n",
        "\n",
        "### 8. **Fault Isolation and Redundancy**\n",
        "   - **Fault Tolerance**: Multithreading can also improve fault tolerance by isolating specific tasks. If one thread fails, it may not necessarily affect the other threads, thus allowing the application to continue running. This is especially useful in mission-critical systems, where uptime is essential.\n",
        "\n",
        "### Example Use Cases:\n",
        "- **Web Servers**: Can handle multiple incoming HTTP requests in parallel using different threads.\n",
        "- **Video Games**: Can handle rendering, physics simulations, AI, and user inputs in parallel threads for a smooth experience.\n",
        "- **Data Processing**: Large data processing tasks (like image processing or machine learning model training) benefit from breaking the work into smaller threads, each performing a part of the task concurrently.\n",
        "\n",
        "### Conclusion:\n",
        "In summary, multithreading is crucial for applications that need to maximize performance, responsiveness, and resource utilization. By allowing tasks to run concurrently, multithreading helps systems to become more efficient, scalable, and user-friendly."
      ],
      "metadata": {
        "id": "3Cr0DWBJp-Vm"
      }
    },
    {
      "cell_type": "markdown",
      "source": [
        "#**PRACTICAL QUESTIONS**"
      ],
      "metadata": {
        "id": "n0S8jc3EvchD"
      }
    },
    {
      "cell_type": "code",
      "source": [
        "#1.How can you open a file for writing in Python and write a string to it?\n",
        "# Open the file in write mode\n",
        "with open(\"file.txt\", \"w\") as file:\n",
        "    file.write(\"This is a string written to the file.\")\n",
        "\n",
        "print(\"String written to the file successfully.\")\n"
      ],
      "metadata": {
        "colab": {
          "base_uri": "https://localhost:8080/"
        },
        "id": "vjm9POioywCI",
        "outputId": "ba22d3ef-eb4e-419c-c7ac-d0f1f5921cdf"
      },
      "execution_count": null,
      "outputs": [
        {
          "output_type": "stream",
          "name": "stdout",
          "text": [
            "String written to the file successfully.\n"
          ]
        }
      ]
    },
    {
      "cell_type": "code",
      "source": [
        "#2.Write a Python program to read the contents of a file and print each line.\n",
        "# Open the file in read mode\n",
        "with open(\"file.txt\", \"r\") as file:\n",
        "    # Loop through each line in the file\n",
        "    for line in file:\n",
        "        print(line, end='')  # Print each line (end='' prevents extra newlines)\n"
      ],
      "metadata": {
        "colab": {
          "base_uri": "https://localhost:8080/"
        },
        "id": "3Y1gD8Loy_mp",
        "outputId": "a9ac53d9-cbbf-49e4-9d56-da2c12724fdc"
      },
      "execution_count": null,
      "outputs": [
        {
          "output_type": "stream",
          "name": "stdout",
          "text": [
            "This is a string written to the file."
          ]
        }
      ]
    },
    {
      "cell_type": "code",
      "source": [
        "#3.How would you handle a case where the file doesn't exist while trying to open it for reading?\n",
        "try:\n",
        "    with open(\"file.txt\", \"r\") as file:\n",
        "        content = file.read()\n",
        "        print(content)\n",
        "except FileNotFoundError:\n",
        "    print(\"Error: The file does not exist.\")\n"
      ],
      "metadata": {
        "colab": {
          "base_uri": "https://localhost:8080/"
        },
        "id": "vtcf62SbzOZZ",
        "outputId": "c0d89547-5d6b-4763-b632-967ce517c1c6"
      },
      "execution_count": null,
      "outputs": [
        {
          "output_type": "stream",
          "name": "stdout",
          "text": [
            "This is a string written to the file.\n"
          ]
        }
      ]
    },
    {
      "cell_type": "code",
      "source": [
        "#4. Write a Python script that reads from one file and writes its content to another file\n",
        "# Python script to read from one file and write its content to another file\n",
        "\n",
        "# Function to copy content from one file to another\n",
        "def copy_file_content(source_file, destination_file):\n",
        "    try:\n",
        "        # Open the source file in read mode\n",
        "        with open(source_file, 'r') as src:\n",
        "            # Read the content of the source file\n",
        "            content = src.read()\n",
        "\n",
        "        # Open the destination file in write mode\n",
        "        with open(destination_file, 'w') as dest:\n",
        "            # Write the content to the destination file\n",
        "            dest.write(content)\n",
        "\n",
        "        print(f\"Content successfully copied from {source_file} to {destination_file}.\")\n",
        "    except FileNotFoundError:\n",
        "        print(f\"Error: The file '{source_file}' was not found.\")\n",
        "    except IOError as e:\n",
        "        print(f\"An I/O error occurred: {e}\")\n",
        "\n",
        "# Main function to execute the script\n",
        "if __name__ == \"__main__\":\n",
        "    # File paths (replace with your own file names)\n",
        "    source_file = \"source.txt\"\n",
        "    destination_file = \"destination.txt\"\n",
        "\n",
        "    # Call the function to copy content\n",
        "    copy_file_content(source_file, destination_file)"
      ],
      "metadata": {
        "id": "y6zpy-5U0RV7",
        "colab": {
          "base_uri": "https://localhost:8080/"
        },
        "outputId": "6924591a-e6bc-4128-b067-2ddeeaecd093"
      },
      "execution_count": 1,
      "outputs": [
        {
          "output_type": "stream",
          "name": "stdout",
          "text": [
            "Error: The file 'source.txt' was not found.\n"
          ]
        }
      ]
    },
    {
      "cell_type": "code",
      "source": [
        "#5. How would you catch and handle division by zero error in Python?\n",
        "\n",
        "# Function to copy content from one file to another\n",
        "def copy_file_content(source_file, destination_file):\n",
        "    try:\n",
        "        # Open the source file in read mode\n",
        "        with open(source_file, 'r') as src:\n",
        "            # Read the content of the source file\n",
        "            content = src.read()\n",
        "\n",
        "        # Open the destination file in write mode\n",
        "        with open(destination_file, 'w') as dest:\n",
        "            # Write the content to the destination file\n",
        "            dest.write(content)\n",
        "\n",
        "        print(f\"Content successfully copied from {source_file} to {destination_file}.\")\n",
        "    except FileNotFoundError:\n",
        "        print(f\"Error: The file '{source_file}' was not found.\")\n",
        "    except IOError as e:\n",
        "        print(f\"An I/O error occurred: {e}\")\n",
        "\n",
        "# Main function to execute the script\n",
        "if __name__ == \"__main__\":\n",
        "    # File paths (replace with your own file names)\n",
        "    source_file = \"source.txt\"\n",
        "    destination_file = \"destination.txt\"\n",
        "\n",
        "    # Call the function to copy content\n",
        "    copy_file_content(source_file, destination_file)\n"
      ],
      "metadata": {
        "colab": {
          "base_uri": "https://localhost:8080/"
        },
        "id": "-PRC3ged0z1E",
        "outputId": "b235f4ac-24af-4201-a443-c744d51017c6"
      },
      "execution_count": 2,
      "outputs": [
        {
          "output_type": "stream",
          "name": "stdout",
          "text": [
            "Error: The file 'source.txt' was not found.\n"
          ]
        }
      ]
    },
    {
      "cell_type": "code",
      "source": [
        "# 6. Write a Python program that logs an error message to a log file when a division by zero exception occurs?\n",
        "\n",
        "\n",
        "import logging\n",
        "\n",
        "def divide_numbers(x, y):\n",
        "  \"\"\"Divides two numbers and handles potential ZeroDivisionError.\"\"\"\n",
        "  try:\n",
        "    result = x / y\n",
        "    return result\n",
        "  except ZeroDivisionError:\n",
        "    # Configure logging\n",
        "    logging.basicConfig(filename='error.log', level=logging.ERROR,\n",
        "                        format='%(asctime)s - %(levelname)s - %(message)s')\n",
        "    logging.error(\"Division by zero occurred.\")\n",
        "    return None  # Or raise the exception again if you want to stop execution\n",
        "\n",
        "# Example usage\n",
        "result1 = divide_numbers(10, 2)\n",
        "print(f\"Result 1: {result1}\")\n",
        "\n",
        "result2 = divide_numbers(10, 0)\n",
        "print(f\"Result 2: {result2}\")\n"
      ],
      "metadata": {
        "colab": {
          "base_uri": "https://localhost:8080/"
        },
        "id": "e2zt53Fo1J0M",
        "outputId": "1b54119c-c0eb-4077-c513-fa9427f4e84d"
      },
      "execution_count": 9,
      "outputs": [
        {
          "output_type": "stream",
          "name": "stderr",
          "text": [
            "ERROR:root:Division by zero occurred.\n"
          ]
        },
        {
          "output_type": "stream",
          "name": "stdout",
          "text": [
            "Result 1: 5.0\n",
            "Result 2: None\n"
          ]
        }
      ]
    },
    {
      "cell_type": "code",
      "source": [
        "#7. How do you log information at different levels (INFO, ERROR, WARNING) in Python using the logging module?\n",
        "import logging\n",
        "\n",
        "# Configure the logging system\n",
        "logging.basicConfig(\n",
        "    filename='app.log',  # Log messages will be saved to this file\n",
        "    level=logging.DEBUG,  # Set the minimum log level to DEBUG\n",
        "    format='%(asctime)s - %(levelname)s - %(message)s'  # Log message format\n",
        "    )\n",
        "\n",
        "# Logging at different levels\n",
        "logging.debug(\"This is a DEBUG message (for detailed diagnostic information).\")\n",
        "logging.info(\"This is an INFO message (for general information).\")\n",
        "logging.warning(\"This is a WARNING message (for potentially problematic situations).\")\n",
        "logging.error(\"This is an ERROR message (for serious issues).\")\n",
        "logging.critical(\"This is a CRITICAL message (for severe errors that require immediate attention).\")\n"
      ],
      "metadata": {
        "colab": {
          "base_uri": "https://localhost:8080/"
        },
        "id": "pzxrSVN929jX",
        "outputId": "59c48aa4-455d-4f24-90e1-9937b61841cd"
      },
      "execution_count": 12,
      "outputs": [
        {
          "output_type": "stream",
          "name": "stderr",
          "text": [
            "WARNING:root:This is a WARNING message (for potentially problematic situations).\n",
            "ERROR:root:This is an ERROR message (for serious issues).\n",
            "CRITICAL:root:This is a CRITICAL message (for severe errors that require immediate attention).\n"
          ]
        }
      ]
    },
    {
      "cell_type": "code",
      "source": [
        "#8. Write a program to handle a file opening error using exception handling.\n",
        "def read_file(file_name):\n",
        "    try:\n",
        "        # Attempt to open the file in read mode\n",
        "        with open(file_name, 'r') as file:\n",
        "            content = file.read()\n",
        "            print(\"File content:\")\n",
        "            print(content)\n",
        "    except FileNotFoundError:\n",
        "        print(f\"Error: The file '{file_name}' was not found.\")\n",
        "    except PermissionError:\n",
        "        print(f\"Error: Permission denied to access the file '{file_name}'.\")\n",
        "    except Exception as e:\n",
        "        print(f\"An unexpected error occurred: {e}\")\n",
        "\n",
        "# Main function\n",
        "if __name__ == \"__main__\":\n",
        "    # Ask the user for the file name\n",
        "    file_name = input(\"Enter the name of the file to open: \")\n",
        "    read_file(file_name)\n"
      ],
      "metadata": {
        "colab": {
          "base_uri": "https://localhost:8080/"
        },
        "id": "QgE6RW-W3ZLi",
        "outputId": "576aeb44-6ee1-4ca6-8d9d-bcdc7337f57b"
      },
      "execution_count": 13,
      "outputs": [
        {
          "output_type": "stream",
          "name": "stdout",
          "text": [
            "Enter the name of the file to open: \n",
            "Error: The file '' was not found.\n"
          ]
        }
      ]
    },
    {
      "cell_type": "code",
      "source": [
        "#9. How can you read a file line by line and store its content in a list in Python.\n",
        "def read_file_into_list(file_name):\n",
        "    try:\n",
        "        # Open the file in read mode\n",
        "        with open(file_name, 'r') as file:\n",
        "            # Read lines and store them in a list\n",
        "            lines = file.readlines()\n",
        "        return lines\n",
        "    except FileNotFoundError:\n",
        "        print(f\"Error: The file '{file_name}' was not found.\")\n",
        "        return []\n",
        "    except PermissionError:\n",
        "        print(f\"Error: Permission denied to access the file '{file_name}'.\")\n",
        "        return []\n",
        "\n",
        "# Main function\n",
        "if __name__ == \"__main__\":\n",
        "    file_name = input(\"Enter the name of the file to read: \")\n",
        "    content = read_file_into_list(file_name)\n",
        "    if content:\n",
        "        print(\"File content as a list:\")\n",
        "        print(content)\n"
      ],
      "metadata": {
        "colab": {
          "base_uri": "https://localhost:8080/"
        },
        "id": "ZNewK6dA3z4o",
        "outputId": "97837865-c4aa-49a3-e0a6-638d4ac3b773"
      },
      "execution_count": 15,
      "outputs": [
        {
          "output_type": "stream",
          "name": "stdout",
          "text": [
            "Enter the name of the file to read: \n",
            "Error: The file '' was not found.\n"
          ]
        }
      ]
    },
    {
      "cell_type": "code",
      "source": [
        "#10. How can you append data to an existing file in Python?\n",
        "def append_to_file(file_name, data):\n",
        "    try:\n",
        "        # Open the file in append mode\n",
        "        with open(file_name, 'a') as file:\n",
        "            # Write the data to the file\n",
        "            file.write(data + '\\n')  # Add a newline for better readability\n",
        "        print(f\"Data appended successfully to '{file_name}'.\")\n",
        "    except FileNotFoundError:\n",
        "        print(f\"Error: The file '{file_name}' was not found.\")\n",
        "    except PermissionError:\n",
        "        print(f\"Error: Permission denied to access the file '{file_name}'.\")\n",
        "    except Exception as e:\n",
        "        print(f\"An unexpected error occurred: {e}\")\n",
        "\n",
        "# Main function\n",
        "if __name__ == \"__main__\":\n",
        "    file_name = input(\"Enter the name of the file to append to: \")\n",
        "    data = input(\"Enter the data to append: \")\n",
        "    append_to_file(file_name, data)\n"
      ],
      "metadata": {
        "id": "oLy4Uxhd4iFy"
      },
      "execution_count": null,
      "outputs": []
    },
    {
      "cell_type": "code",
      "source": [
        "#11.Write a Python program that uses a try-except block to handle an error when attempting to access a dictionary key that doesn't exist?\n",
        "def access_dictionary_key(dictionary, key):\n",
        "    try:\n",
        "        # Attempt to access the key in the dictionary\n",
        "        value = dictionary[key]\n",
        "        print(f\"The value for key '{key}' is: {value}\")\n",
        "    except KeyError:\n",
        "        print(f\"Error: The key '{key}' does not exist in the dictionary.\")\n",
        "\n",
        "# Main function\n",
        "if __name__ == \"__main__\":\n",
        "    # Sample dictionary\n",
        "    my_dict = {\n",
        "        \"name\": \"Alice\",\n",
        "        \"age\": 25,\n",
        "        \"city\": \"New York\"\n",
        "    }\n",
        "\n",
        "    # Ask the user for the key to access\n",
        "    key = input(\"Enter the key to access: \")\n",
        "    access_dictionary_key(my_dict, key)\n"
      ],
      "metadata": {
        "id": "BaUksdBk47_Y"
      },
      "execution_count": null,
      "outputs": []
    },
    {
      "cell_type": "code",
      "source": [
        "#12. Write a program that demonstrates using multiple except blocks to handle different types of exceptions\n",
        "def demonstrate_exceptions():\n",
        "    try:\n",
        "        # Ask the user for input\n",
        "        numerator = int(input(\"Enter numerator: \"))\n",
        "        denominator = int(input(\"Enter denominator: \"))\n",
        "        result = numerator / denominator\n",
        "        print(f\"The result is: {result}\")\n",
        "\n",
        "        # Simulate accessing a dictionary key\n",
        "        sample_dict = {\"name\": \"Alice\", \"age\": 25}\n",
        "        key = input(\"Enter a key to access in the dictionary: \")\n",
        "        value = sample_dict[key]\n",
        "        print(f\"The value for '{key}' is: {value}\")\n",
        "\n",
        "    except ZeroDivisionError:\n",
        "        print(\"Error: Division by zero is not allowed.\")\n",
        "    except ValueError:\n",
        "        print(\"Error: Invalid input. Please enter numeric values.\")\n",
        "    except KeyError:\n",
        "        print(\"Error: The key you entered does not exist in the dictionary.\")\n",
        "    except Exception as e:\n",
        "        print(f\"An unexpected error occurred: {e}\")\n",
        "\n",
        "# Main function\n",
        "if __name__ == \"__main__\":\n",
        "    demonstrate_exceptions()\n"
      ],
      "metadata": {
        "id": "uScXtuvT5PCx"
      },
      "execution_count": null,
      "outputs": []
    },
    {
      "cell_type": "code",
      "source": [
        "#13. How would you check if a file exists before attempting to read it in Python?\n",
        "import os\n",
        "\n",
        "file_name = \"example.txt\"\n",
        "\n",
        "if os.path.exists(file_name):\n",
        "    with open(file_name, 'r') as file:\n",
        "        content = file.read()\n",
        "        print(\"File content:\")\n",
        "        print(content)\n",
        "else:\n",
        "    print(f\"Error: The file '{file_name}' does not exist.\")\n",
        "\n"
      ],
      "metadata": {
        "id": "ApaCv_3u5Wwt"
      },
      "execution_count": null,
      "outputs": []
    },
    {
      "cell_type": "markdown",
      "source": [],
      "metadata": {
        "id": "vA4cN0AC5upL"
      }
    },
    {
      "cell_type": "code",
      "source": [
        "#14. Write a program that uses the logging module to log both informational and error messages?\n",
        "import logging\n",
        "\n",
        "# Configure the logging system\n",
        "logging.basicConfig(\n",
        "    filename='app.log',  # Log messages will be saved to this file\n",
        "    level=logging.DEBUG,  # Log all messages at DEBUG level and above\n",
        "    format='%(asctime)s - %(levelname)s - %(message)s'  # Log format including timestamp, log level, and message\n",
        ")\n",
        "\n",
        "# Log informational messages\n",
        "logging.info(\"Program started.\")\n",
        "\n",
        "def divide_numbers(numerator, denominator):\n",
        "    try:\n",
        "        logging.info(\"Attempting to divide numbers.\")\n",
        "        result = numerator / denominator\n",
        "        logging.info(f\"Division successful: {numerator} / {denominator} = {result}\")\n",
        "        return result\n",
        "    except ZeroDivisionError as e:\n",
        "        logging.error(f\"Error: Division by zero is not allowed. {e}\")\n",
        "        return None\n",
        "    except Exception as e:\n",
        "        logging.error(f\"An unexpected error occurred: {e}\")\n",
        "        return None\n",
        "\n",
        "# Main function\n",
        "if __name__ == \"__main__\":\n",
        "    # Log some general information\n",
        "    logging.info(\"Entering the main program logic.\")\n",
        "\n",
        "    # Test division with valid values\n",
        "    divide_numbers(10, 2)\n",
        "\n",
        "    # Test division with zero to trigger an error\n",
        "    divide_numbers(10, 0)\n",
        "\n",
        "    # Log that the program ended\n",
        "    logging.info(\"Program ended.\")\n",
        "\n"
      ],
      "metadata": {
        "id": "XDVJHDFB5pDG"
      },
      "execution_count": null,
      "outputs": []
    },
    {
      "cell_type": "code",
      "source": [
        "#15. Write a Python program that prints the content of a file and handles the case when the file is empty\n",
        "def print_file_content(file_name):\n",
        "    try:\n",
        "        # Open the file in read mode\n",
        "        with open(file_name, 'r') as file:\n",
        "            content = file.read()\n",
        "\n",
        "            if content:  # Check if the file is not empty\n",
        "                print(\"File content:\")\n",
        "                print(content)\n",
        "            else:\n",
        "                print(f\"The file '{file_name}' is empty.\")\n",
        "\n",
        "    except FileNotFoundError:\n",
        "        print(f\"Error: The file '{file_name}' does not exist.\")\n",
        "    except PermissionError:\n",
        "        print(f\"Error: Permission denied to access the file '{file_name}'.\")\n",
        "    except Exception as e:\n",
        "        print(f\"An unexpected error occurred: {e}\")\n",
        "\n",
        "# Main function\n",
        "if __name__ == \"__main__\":\n",
        "    file_name = input(\"Enter the name of the file to read: \")\n",
        "    print_file_content(file_name)\n"
      ],
      "metadata": {
        "id": "bQq88yL96ZS-"
      },
      "execution_count": null,
      "outputs": []
    },
    {
      "cell_type": "code",
      "source": [
        "#16. Demonstrate how to use memory profiling to check the memory usage of a small program\n",
        "from memory_profiler import profile\n",
        "\n",
        "@profile\n",
        "def my_function():\n",
        "    # Create a list with a large number of elements\n",
        "    my_list = [i for i in range(1000000)]\n",
        "\n",
        "    # Sum the list to perform some computation\n",
        "    total = sum(my_list)\n",
        "    print(f\"Total sum: {total}\")\n",
        "\n",
        "if __name__ == \"__main__\":\n",
        "    my_function()\n",
        "\n"
      ],
      "metadata": {
        "id": "3EGSt3NZ6j_r"
      },
      "execution_count": null,
      "outputs": []
    },
    {
      "cell_type": "code",
      "source": [
        "#17. Write a Python program to create and write a list of numbers to a file, one number per line\n",
        "def write_numbers_to_file(file_name, numbers):\n",
        "    try:\n",
        "        # Open the file in write mode\n",
        "        with open(file_name, 'w') as file:\n",
        "            # Write each number to the file, one per line\n",
        "            for number in numbers:\n",
        "                file.write(f\"{number}\\n\")\n",
        "        print(f\"Numbers have been written to '{file_name}' successfully.\")\n",
        "    except Exception as e:\n",
        "        print(f\"An error occurred: {e}\")\n",
        "\n",
        "# Main function\n",
        "if __name__ == \"__main__\":\n",
        "    # Create a list of numbers\n",
        "    numbers = [1, 2, 3, 4, 5, 6, 7, 8, 9, 10]\n",
        "\n",
        "    # Specify the file name\n",
        "    file_name = \"numbers.txt\"\n",
        "\n",
        "    # Write the numbers to the file\n",
        "    write_numbers_to_file(file_name, numbers)\n"
      ],
      "metadata": {
        "id": "JXlIn_3A6vv_"
      },
      "execution_count": null,
      "outputs": []
    },
    {
      "cell_type": "code",
      "source": [
        "#18. How would you implement a basic logging setup that logs to a file with rotation after 1MB?\n",
        "import logging\n",
        "from logging.handlers import RotatingFileHandler\n",
        "\n",
        "# Configure the logging setup\n",
        "def setup_logging():\n",
        "    # Create a rotating file handler that logs to 'app.log' and rotates at 1MB (1 * 1024 * 1024 bytes)\n",
        "    handler = RotatingFileHandler('app.log', maxBytes=1*1024*1024, backupCount=3)\n",
        "\n",
        "    # Set the logging format\n",
        "    formatter = logging.Formatter('%(asctime)s - %(levelname)s - %(message)s')\n",
        "    handler.setFormatter(formatter)\n",
        "\n",
        "    # Create a logger\n",
        "    logger = logging.getLogger()\n",
        "    logger.setLevel(logging.DEBUG)\n",
        "    logger.addHandler(handler)\n",
        "\n",
        "    return logger\n",
        "\n",
        "# Main function to demonstrate logging\n",
        "def main():\n",
        "    logger = setup_logging()\n",
        "\n",
        "    # Log some messages\n",
        "    logger.debug(\"This is a debug message.\")\n",
        "    logger.info(\"This is an info message.\")\n",
        "    logger.warning(\"This is a warning message.\")\n",
        "    logger.error(\"This is an error message.\")\n",
        "    logger.critical(\"This is a critical message.\")\n",
        "\n",
        "if __name__ == \"__main__\":\n",
        "    main()\n"
      ],
      "metadata": {
        "id": "OccyaSsb62I7"
      },
      "execution_count": null,
      "outputs": []
    },
    {
      "cell_type": "code",
      "source": [
        "#19. Write a program that handles both IndexError and KeyError using a try-except block.\n",
        "def handle_errors():\n",
        "    # Example list and dictionary\n",
        "    my_list = [1, 2, 3, 4, 5]\n",
        "    my_dict = {\"name\": \"Alice\", \"age\": 25}\n",
        "\n",
        "    try:\n",
        "        # Try to access an invalid index in the list\n",
        "        list_item = my_list[10]\n",
        "        print(f\"List item: {list_item}\")\n",
        "\n",
        "        # Try to access a non-existent key in the dictionary\n",
        "        dict_item = my_dict[\"address\"]\n",
        "        print(f\"Dictionary item: {dict_item}\")\n",
        "\n",
        "    except IndexError as e:\n",
        "        print(f\"IndexError: {e} - Invalid index in the list.\")\n",
        "\n",
        "    except KeyError as e:\n",
        "        print(f\"KeyError: {e} - Key not found in the dictionary.\")\n",
        "\n",
        "# Main function\n",
        "if __name__ == \"__main__\":\n",
        "    handle_errors()\n"
      ],
      "metadata": {
        "id": "S9wt3gn969sP"
      },
      "execution_count": null,
      "outputs": []
    },
    {
      "cell_type": "code",
      "source": [
        "#20. How would you open a file and read its contents using a context manager in Python?\n",
        "def read_file(file_name):\n",
        "    try:\n",
        "        # Open the file using a context manager\n",
        "        with open(file_name, 'r') as file:\n",
        "            # Read the contents of the file\n",
        "            content = file.read()\n",
        "            print(\"File content:\")\n",
        "            print(content)\n",
        "    except FileNotFoundError:\n",
        "        print(f\"Error: The file '{file_name}' does not exist.\")\n",
        "    except Exception as e:\n",
        "        print(f\"An unexpected error occurred: {e}\")\n",
        "\n",
        "# Main function\n",
        "if __name__ == \"__main__\":\n",
        "    file_name = \"example.txt\"\n",
        "    read_file(file_name)\n"
      ],
      "metadata": {
        "id": "fefy8XWs7paG"
      },
      "execution_count": null,
      "outputs": []
    },
    {
      "cell_type": "code",
      "source": [
        "#21. Write a Python program that reads a file and prints the number of occurrences of a specific word?\n",
        "def count_word_occurrences(file_name, word):\n",
        "    try:\n",
        "        # Open the file using a context manager\n",
        "        with open(file_name, 'r') as file:\n",
        "            # Initialize a counter for the word occurrences\n",
        "            word_count = 0\n",
        "\n",
        "            # Read the file line by line\n",
        "            for line in file:\n",
        "                # Count occurrences of the word in the current line\n",
        "                word_count += line.lower().split().count(word.lower())\n",
        "\n",
        "        # Print the number of occurrences\n",
        "        print(f\"The word '{word}' appears {word_count} times in the file.\")\n",
        "\n",
        "    except FileNotFoundError:\n",
        "        print(f\"Error: The file '{file_name}' does not exist.\")\n",
        "    except Exception as e:\n",
        "        print(f\"An unexpected error occurred: {e}\")\n",
        "\n",
        "# Main function\n",
        "if __name__ == \"__main__\":\n",
        "    file_name = \"example.txt\"  # Replace with the actual file path\n",
        "    word_to_search = \"python\"  # Replace with the word to search for\n",
        "    count_word_occurrences(file_name, word_to_search)\n",
        "\n"
      ],
      "metadata": {
        "id": "Rko2fJFa75cs"
      },
      "execution_count": null,
      "outputs": []
    },
    {
      "cell_type": "code",
      "source": [
        "#22. How can you check if a file is empty before attempting to read its contents?\n",
        "import os\n",
        "\n",
        "def read_file_if_not_empty(file_name):\n",
        "    try:\n",
        "        # Check if the file exists and is not empty\n",
        "        if os.path.exists(file_name) and os.stat(file_name).st_size > 0:\n",
        "            with open(file_name, 'r') as file:\n",
        "                content = file.read()\n",
        "                print(\"File content:\")\n",
        "                print(content)\n",
        "        else:\n",
        "            print(f\"The file '{file_name}' is empty or does not exist.\")\n",
        "\n",
        "    except Exception as e:\n",
        "        print(f\"An unexpected error occurred: {e}\")\n",
        "\n",
        "# Main function\n",
        "if __name__ == \"__main__\":\n",
        "    file_name = \"example.txt\"  # Replace with your actual file path\n",
        "    read_file_if_not_empty(file_name)\n"
      ],
      "metadata": {
        "id": "ej6B8txT8O7u"
      },
      "execution_count": null,
      "outputs": []
    },
    {
      "cell_type": "code",
      "source": [
        "#23. Write a Python program that writes to a log file when an error occurs during file handling.\n",
        "import logging\n",
        "\n",
        "# Set up the logging configuration\n",
        "logging.basicConfig(\n",
        "    filename='file_error.log',   # Log file name\n",
        "    level=logging.ERROR,         # Log only errors and more severe messages\n",
        "    format='%(asctime)s - %(levelname)s - %(message)s'  # Log format\n",
        ")\n",
        "\n",
        "def write_to_file(file_name, data):\n",
        "    try:\n",
        "        # Attempt to open the file and write data to it\n",
        "        with open(file_name, 'w') as file:\n",
        "            file.write(data)\n",
        "        print(f\"Data successfully written to {file_name}.\")\n",
        "\n",
        "    except Exception as e:\n",
        "        # Log the error if an exception occurs\n",
        "        logging.error(f\"Error writing to file '{file_name}': {e}\")\n",
        "        print(f\"An error occurred. Please check the log file for details.\")\n",
        "\n",
        "# Main function\n",
        "if __name__ == \"__main__\":\n",
        "    file_name = \"example.txt\"  # The file to write to\n",
        "    data = \"This is some sample data.\\nIt will be written to the file.\"\n",
        "\n",
        "    write_to_file(file_name, data)\n"
      ],
      "metadata": {
        "id": "WoSwx8Wg8mXQ"
      },
      "execution_count": null,
      "outputs": []
    },
    {
      "cell_type": "code",
      "source": [],
      "metadata": {
        "id": "mNI_PEEi8sfL"
      },
      "execution_count": null,
      "outputs": []
    }
  ]
}